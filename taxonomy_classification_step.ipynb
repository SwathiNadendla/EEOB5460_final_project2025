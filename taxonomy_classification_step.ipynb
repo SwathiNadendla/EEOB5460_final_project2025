{
 "cells": [
  {
   "cell_type": "markdown",
   "id": "df415266-9c3a-47da-854d-f364ffb3ecbe",
   "metadata": {},
   "source": [
    "## taxonomy classification\n",
    "\n",
    "\"Taxonomy lineage information was obtained for each blast hits by matching the accession number with the taxonomy database, which was subsequently used to identify reads of virus origin"
   ]
  },
  {
   "cell_type": "code",
   "execution_count": 1,
   "id": "448d1d55-5aef-45ec-b6aa-b19032b2085f",
   "metadata": {},
   "outputs": [
    {
     "name": "stdout",
     "output_type": "stream",
     "text": [
      "/Users/lilliang/Documents/Spring_2025/EEOB5460/EEOB5460_final_project2025\n"
     ]
    }
   ],
   "source": [
    "# ensure you are in the cloned github repo that contains the correct files\n",
    "!pwd"
   ]
  },
  {
   "cell_type": "code",
   "execution_count": 2,
   "id": "271a6216-9f9c-4e95-9236-e127be8d895e",
   "metadata": {},
   "outputs": [
    {
     "name": "stdout",
     "output_type": "stream",
     "text": [
      "    taxid\n",
      "0  101850\n",
      "1   10359\n",
      "2  104664\n",
      "3   10682\n",
      "4   10730\n",
      "   taxid\n",
      "0  10682\n",
      "1  10843\n",
      "2  10845\n",
      "3  10849\n",
      "4  10863\n"
     ]
    }
   ],
   "source": [
    "import pandas as pd\n",
    "\n",
    "# read taxid files (only one column)\n",
    "w1_taxids = pd.read_csv(\"working_files/w1_taxids.txt\", header = None, names = [\"taxid\"], dtype = str)\n",
    "print(w1_taxids.head())\n",
    "\n",
    "w2_taxids = pd.read_csv(\"working_files/w2_taxids.txt\", header = None, names = [\"taxid\"], dtype = str)\n",
    "print(w2_taxids.head())"
   ]
  },
  {
   "cell_type": "code",
   "execution_count": 3,
   "id": "c62736e7-93e3-4afe-880b-db8e1c084512",
   "metadata": {},
   "outputs": [],
   "source": [
    "# load names.dmp\n",
    "def load_names(file_path):\n",
    "    taxid_to_name = {}\n",
    "    with open(file_path) as f:\n",
    "        for line in f:\n",
    "            parts = [p.strip() for p in line.split(\"|\")]\n",
    "            if len(parts) >= 4 and parts[3] == \"scientific name\":\n",
    "                taxid_to_name[parts[0]] = parts[1]\n",
    "    return taxid_to_name\n",
    "\n",
    "# load nodes.dmp\n",
    "def load_nodes(file_path):\n",
    "    child_to_parent = {}\n",
    "    with open(file_path) as f:\n",
    "        for line in f:\n",
    "            parts = line.strip().split(\"\\t|\\t\")\n",
    "            child = parts[0].strip()\n",
    "            parent = parts[1].strip()\n",
    "            child_to_parent[child] = parent\n",
    "    return child_to_parent\n",
    "\n",
    "names = load_names(\"working_files/taxonomy_db/names.dmp\")\n",
    "parents = load_nodes(\"working_files/taxonomy_db/nodes.dmp\")"
   ]
  },
  {
   "cell_type": "code",
   "execution_count": 4,
   "id": "0df6522b-30ce-4132-8af6-3b6c7b1b7a48",
   "metadata": {},
   "outputs": [],
   "source": [
    "def get_lineage(taxid, names_dict, parents_dict):\n",
    "    lineage = []\n",
    "    visited = set()\n",
    "\n",
    "    while taxid not in visited and taxid != \"1\":\n",
    "        visited.add(taxid)\n",
    "        name = names_dict.get(taxid, \"N/A\")\n",
    "        lineage.append(name)\n",
    "        taxid = parents_dict.get(taxid, \"1\")\n",
    "    \n",
    "    return \" > \".join(reversed(lineage))"
   ]
  },
  {
   "cell_type": "code",
   "execution_count": 5,
   "id": "6b05b757-ef33-4fc9-a452-58674e6a3b76",
   "metadata": {},
   "outputs": [
    {
     "data": {
      "text/html": [
       "<div>\n",
       "<style scoped>\n",
       "    .dataframe tbody tr th:only-of-type {\n",
       "        vertical-align: middle;\n",
       "    }\n",
       "\n",
       "    .dataframe tbody tr th {\n",
       "        vertical-align: top;\n",
       "    }\n",
       "\n",
       "    .dataframe thead th {\n",
       "        text-align: right;\n",
       "    }\n",
       "</style>\n",
       "<table border=\"1\" class=\"dataframe\">\n",
       "  <thead>\n",
       "    <tr style=\"text-align: right;\">\n",
       "      <th></th>\n",
       "      <th>taxid</th>\n",
       "      <th>lineage</th>\n",
       "    </tr>\n",
       "  </thead>\n",
       "  <tbody>\n",
       "    <tr>\n",
       "      <th>0</th>\n",
       "      <td>101850</td>\n",
       "      <td>Viruses &gt; Viruses incertae sedis &gt; Naldavirice...</td>\n",
       "    </tr>\n",
       "    <tr>\n",
       "      <th>1</th>\n",
       "      <td>10359</td>\n",
       "      <td>Viruses &gt; Duplodnaviria &gt; Heunggongvirae &gt; Pep...</td>\n",
       "    </tr>\n",
       "    <tr>\n",
       "      <th>2</th>\n",
       "      <td>104664</td>\n",
       "      <td>Viruses &gt; Riboviria &gt; Orthornavirae &gt; Kitrinov...</td>\n",
       "    </tr>\n",
       "    <tr>\n",
       "      <th>3</th>\n",
       "      <td>10682</td>\n",
       "      <td>Viruses &gt; Duplodnaviria &gt; Heunggongvirae &gt; Uro...</td>\n",
       "    </tr>\n",
       "    <tr>\n",
       "      <th>4</th>\n",
       "      <td>10730</td>\n",
       "      <td>Viruses &gt; Duplodnaviria &gt; Heunggongvirae &gt; Uro...</td>\n",
       "    </tr>\n",
       "  </tbody>\n",
       "</table>\n",
       "</div>"
      ],
      "text/plain": [
       "    taxid                                            lineage\n",
       "0  101850  Viruses > Viruses incertae sedis > Naldavirice...\n",
       "1   10359  Viruses > Duplodnaviria > Heunggongvirae > Pep...\n",
       "2  104664  Viruses > Riboviria > Orthornavirae > Kitrinov...\n",
       "3   10682  Viruses > Duplodnaviria > Heunggongvirae > Uro...\n",
       "4   10730  Viruses > Duplodnaviria > Heunggongvirae > Uro..."
      ]
     },
     "execution_count": 5,
     "metadata": {},
     "output_type": "execute_result"
    }
   ],
   "source": [
    "# apply get_lineage \n",
    "w1_taxids[\"lineage\"] = w1_taxids[\"taxid\"].apply(lambda tid: get_lineage(tid, names, parents))\n",
    "w1_taxids.head()"
   ]
  },
  {
   "cell_type": "code",
   "execution_count": 6,
   "id": "25d8187f-6a92-4aa8-8711-be6b2cc02407",
   "metadata": {},
   "outputs": [
    {
     "data": {
      "text/html": [
       "<div>\n",
       "<style scoped>\n",
       "    .dataframe tbody tr th:only-of-type {\n",
       "        vertical-align: middle;\n",
       "    }\n",
       "\n",
       "    .dataframe tbody tr th {\n",
       "        vertical-align: top;\n",
       "    }\n",
       "\n",
       "    .dataframe thead th {\n",
       "        text-align: right;\n",
       "    }\n",
       "</style>\n",
       "<table border=\"1\" class=\"dataframe\">\n",
       "  <thead>\n",
       "    <tr style=\"text-align: right;\">\n",
       "      <th></th>\n",
       "      <th>taxid</th>\n",
       "      <th>lineage</th>\n",
       "    </tr>\n",
       "  </thead>\n",
       "  <tbody>\n",
       "    <tr>\n",
       "      <th>0</th>\n",
       "      <td>10682</td>\n",
       "      <td>Viruses &gt; Duplodnaviria &gt; Heunggongvirae &gt; Uro...</td>\n",
       "    </tr>\n",
       "    <tr>\n",
       "      <th>1</th>\n",
       "      <td>10843</td>\n",
       "      <td>Viruses &gt; Monodnaviria &gt; Sangervirae &gt; Phixvir...</td>\n",
       "    </tr>\n",
       "    <tr>\n",
       "      <th>2</th>\n",
       "      <td>10845</td>\n",
       "      <td>Viruses &gt; Monodnaviria &gt; Sangervirae &gt; Phixvir...</td>\n",
       "    </tr>\n",
       "    <tr>\n",
       "      <th>3</th>\n",
       "      <td>10849</td>\n",
       "      <td>Viruses &gt; Monodnaviria &gt; Sangervirae &gt; Phixvir...</td>\n",
       "    </tr>\n",
       "    <tr>\n",
       "      <th>4</th>\n",
       "      <td>10863</td>\n",
       "      <td>Viruses &gt; Monodnaviria &gt; Loebvirae &gt; Hofneivir...</td>\n",
       "    </tr>\n",
       "  </tbody>\n",
       "</table>\n",
       "</div>"
      ],
      "text/plain": [
       "   taxid                                            lineage\n",
       "0  10682  Viruses > Duplodnaviria > Heunggongvirae > Uro...\n",
       "1  10843  Viruses > Monodnaviria > Sangervirae > Phixvir...\n",
       "2  10845  Viruses > Monodnaviria > Sangervirae > Phixvir...\n",
       "3  10849  Viruses > Monodnaviria > Sangervirae > Phixvir...\n",
       "4  10863  Viruses > Monodnaviria > Loebvirae > Hofneivir..."
      ]
     },
     "execution_count": 6,
     "metadata": {},
     "output_type": "execute_result"
    }
   ],
   "source": [
    "# apply get_lineage \n",
    "w2_taxids[\"lineage\"] = w2_taxids[\"taxid\"].apply(lambda tid: get_lineage(tid, names, parents))\n",
    "w2_taxids.head()"
   ]
  },
  {
   "cell_type": "code",
   "execution_count": 12,
   "id": "973e148a-9341-4360-ac2d-55bba6e27b95",
   "metadata": {},
   "outputs": [],
   "source": [
    "# saving files\n",
    "w1_taxids.to_csv(\"working_files/w1_taxid_lineage_output.txt\", sep = \"\\t\", index = False)\n",
    "w2_taxids.to_csv(\"working_files/w2_taxid_lineage_output.txt\", sep = \"\\t\", index = False)"
   ]
  },
  {
   "cell_type": "code",
   "execution_count": 7,
   "id": "3c37307a-441d-4698-aea5-43e25f8448d6",
   "metadata": {},
   "outputs": [
    {
     "name": "stdout",
     "output_type": "stream",
     "text": [
      "           qseqid       sseqid   pident  length  mismatch  gapopen  qstart  \\\n",
      "0  SRR10903402.21  NC_045512.2  100.000     113         0        0       1   \n",
      "1  SRR10903402.21  NC_045512.2  100.000      28         0        0     112   \n",
      "2  SRR10903402.24  NC_045512.2  100.000     150         0        0       1   \n",
      "3  SRR10903402.26  NC_045512.2  100.000     151         0        0       1   \n",
      "4  SRR10903402.26  NC_004718.3   96.026     151         6        0       1   \n",
      "\n",
      "   qend  sstart   send        evalue  bitscore  \n",
      "0   113    8072   7960  4.370000e-53     209.0  \n",
      "1   139    7944   7971  7.800000e-06      52.8  \n",
      "2   150    1513   1662  1.300000e-73     278.0  \n",
      "3   151   29748  29598  3.630000e-74     279.0  \n",
      "4   151   29605  29455  3.690000e-64     246.0  \n",
      "           qseqid       sseqid  pident  length  mismatch  gapopen  qstart  \\\n",
      "0   SRR10903401.7  NC_045512.2   100.0     104         0        0      21   \n",
      "1   SRR10903401.7  NC_045512.2   100.0      29         0        0       1   \n",
      "2  SRR10903401.11  NC_001422.1   100.0     150         0        0       2   \n",
      "3  SRR10903401.13  NC_001422.1   100.0     151         0        0       1   \n",
      "4  SRR10903401.14  NC_001422.1   100.0     134         0        0       1   \n",
      "\n",
      "   qend  sstart   send        evalue  bitscore  \n",
      "0   124   28259  28362  3.820000e-48     193.0  \n",
      "1    29   28224  28196  1.880000e-06      54.7  \n",
      "2   151    1302   1451  1.310000e-73     278.0  \n",
      "3   151    4050   4200  3.630000e-74     279.0  \n",
      "4   134    5253   5386  1.020000e-64     248.0  \n"
     ]
    }
   ],
   "source": [
    "# join blastn hits df w/ lineage df by accession \n",
    "# read in blastn files\n",
    "w1_blast_df = pd.read_csv(\"working_files/wuhan1_blastn_hits.txt\", sep = \"\\t\", header = None)\n",
    "w2_blast_df = pd.read_csv(\"working_files/wuhan2_blastn_hits.txt\", sep = \"\\t\", header = None)\n",
    "\n",
    "# add column headers based on output format 6 (https://www.metagenomics.wiki/tools/blast/blastn-output-format-6)\n",
    "w1_blast_df.columns = [\n",
    "    \"qseqid\", \"sseqid\", \"pident\", \"length\", \"mismatch\", \"gapopen\", \n",
    "    \"qstart\", \"qend\", \"sstart\", \"send\", \"evalue\", \"bitscore\"\n",
    "]\n",
    "w2_blast_df.columns = [\n",
    "    \"qseqid\", \"sseqid\", \"pident\", \"length\", \"mismatch\", \"gapopen\", \n",
    "    \"qstart\", \"qend\", \"sstart\", \"send\", \"evalue\", \"bitscore\"\n",
    "]\n",
    "\n",
    "print(w1_blast_df.head())\n",
    "print(w2_blast_df.head())"
   ]
  },
  {
   "cell_type": "markdown",
   "id": "3a5ea92a-c93d-4655-a692-125688c332f1",
   "metadata": {},
   "source": [
    "1.  qseqid   |   query or source (gene) sequence id\n",
    "\n",
    "2.  sseqid   |   subject or target (reference genome) sequence id\n",
    "\n",
    "3.  pident   |   percentage of identical positions\n",
    "\n",
    "4.  length   |   alignment length (sequence overlap)\n",
    "\n",
    "5.  mismatch  |  number of mismatches\n",
    "\n",
    "6.  gapopen  |   number of gap openings\n",
    "\n",
    "7.  qstart   |   start of alignment in query\n",
    "\n",
    "8.  qend    |    end of alignment in query\n",
    "\n",
    "9.  sstart   |   start of alignment in subject\n",
    "\n",
    "10.  send    |    end of alignment in subject\n",
    "\n",
    "11.  evalue   |   expect value\n",
    "\n",
    "12.  bitscore  |  bit score"
   ]
  },
  {
   "cell_type": "code",
   "execution_count": 9,
   "id": "ef183600-349e-410f-94ee-c22c66de049f",
   "metadata": {},
   "outputs": [
    {
     "name": "stdout",
     "output_type": "stream",
     "text": [
      "  accession_full    taxid\n",
      "0    NC_000902.1    97081\n",
      "1    NC_000924.1    10730\n",
      "2    NC_001330.1    10849\n",
      "3    NC_001416.1  2681611\n",
      "4    NC_001420.2    10843\n",
      "  accession_full    taxid\n",
      "0    NC_001330.1    10849\n",
      "1    NC_001416.1  2681611\n",
      "2    NC_001420.2    10843\n",
      "3    NC_001422.1  2886930\n",
      "4    NC_001450.1    11665\n"
     ]
    }
   ],
   "source": [
    "# load accession to taxid map\n",
    "w1_taxid_map = pd.read_csv(\"working_files/w1_taxid_map.txt\", sep = \"\\t\", header = None, names = [\"accession_base\", \"accession_full\", \"taxid\", \"gi\"])\n",
    "w2_taxid_map = pd.read_csv(\"working_files/w2_taxid_map.txt\", sep = \"\\t\", header = None, names = [\"accession_base\", \"accession_full\", \"taxid\", \"gi\"])\n",
    "\n",
    "w1_taxid_map = w1_taxid_map[[\"accession_full\", \"taxid\"]]\n",
    "w2_taxid_map = w2_taxid_map[[\"accession_full\", \"taxid\"]]\n",
    "\n",
    "print(w1_taxid_map.head())\n",
    "print(w2_taxid_map.head())"
   ]
  },
  {
   "cell_type": "code",
   "execution_count": 13,
   "id": "94fc42e3-1cd7-4206-8f97-d843533de485",
   "metadata": {},
   "outputs": [
    {
     "name": "stdout",
     "output_type": "stream",
     "text": [
      "    taxid                                            lineage\n",
      "0  101850  Viruses > Viruses incertae sedis > Naldavirice...\n",
      "1   10359  Viruses > Duplodnaviria > Heunggongvirae > Pep...\n",
      "2  104664  Viruses > Riboviria > Orthornavirae > Kitrinov...\n",
      "3   10682  Viruses > Duplodnaviria > Heunggongvirae > Uro...\n",
      "4   10730  Viruses > Duplodnaviria > Heunggongvirae > Uro...\n",
      "   taxid                                            lineage\n",
      "0  10682  Viruses > Duplodnaviria > Heunggongvirae > Uro...\n",
      "1  10843  Viruses > Monodnaviria > Sangervirae > Phixvir...\n",
      "2  10845  Viruses > Monodnaviria > Sangervirae > Phixvir...\n",
      "3  10849  Viruses > Monodnaviria > Sangervirae > Phixvir...\n",
      "4  10863  Viruses > Monodnaviria > Loebvirae > Hofneivir...\n"
     ]
    }
   ],
   "source": [
    "# load newly made lineage files\n",
    "w1_lineage_df = pd.read_csv(\"working_files/w1_taxid_lineage_output.txt\", sep = \"\\t\", header = 0)\n",
    "w2_lineage_df = pd.read_csv(\"working_files/w2_taxid_lineage_output.txt\", sep = \"\\t\", header = 0)\n",
    "\n",
    "print(w1_lineage_df.head())\n",
    "print(w2_lineage_df.head())"
   ]
  },
  {
   "cell_type": "code",
   "execution_count": 14,
   "id": "e327183f-3740-4395-85de-6104462dbb08",
   "metadata": {},
   "outputs": [
    {
     "name": "stdout",
     "output_type": "stream",
     "text": [
      "           qseqid       sseqid   pident  length  mismatch  gapopen  qstart  \\\n",
      "0  SRR10903402.21  NC_045512.2  100.000     113         0        0       1   \n",
      "1  SRR10903402.21  NC_045512.2  100.000      28         0        0     112   \n",
      "2  SRR10903402.24  NC_045512.2  100.000     150         0        0       1   \n",
      "3  SRR10903402.26  NC_045512.2  100.000     151         0        0       1   \n",
      "4  SRR10903402.26  NC_004718.3   96.026     151         6        0       1   \n",
      "\n",
      "   qend  sstart   send        evalue  bitscore accession_full    taxid  \n",
      "0   113    8072   7960  4.370000e-53     209.0    NC_045512.2  2697049  \n",
      "1   139    7944   7971  7.800000e-06      52.8    NC_045512.2  2697049  \n",
      "2   150    1513   1662  1.300000e-73     278.0    NC_045512.2  2697049  \n",
      "3   151   29748  29598  3.630000e-74     279.0    NC_045512.2  2697049  \n",
      "4   151   29605  29455  3.690000e-64     246.0    NC_004718.3   227984  \n",
      "           qseqid       sseqid  pident  length  mismatch  gapopen  qstart  \\\n",
      "0   SRR10903401.7  NC_045512.2   100.0     104         0        0      21   \n",
      "1   SRR10903401.7  NC_045512.2   100.0      29         0        0       1   \n",
      "2  SRR10903401.11  NC_001422.1   100.0     150         0        0       2   \n",
      "3  SRR10903401.13  NC_001422.1   100.0     151         0        0       1   \n",
      "4  SRR10903401.14  NC_001422.1   100.0     134         0        0       1   \n",
      "\n",
      "   qend  sstart   send        evalue  bitscore accession_full    taxid  \n",
      "0   124   28259  28362  3.820000e-48     193.0    NC_045512.2  2697049  \n",
      "1    29   28224  28196  1.880000e-06      54.7    NC_045512.2  2697049  \n",
      "2   151    1302   1451  1.310000e-73     278.0    NC_001422.1  2886930  \n",
      "3   151    4050   4200  3.630000e-74     279.0    NC_001422.1  2886930  \n",
      "4   134    5253   5386  1.020000e-64     248.0    NC_001422.1  2886930  \n"
     ]
    }
   ],
   "source": [
    "# merge accession to taxid into blastn\n",
    "w1_merged_blast = w1_blast_df.merge(w1_taxid_map, left_on = \"sseqid\", right_on = \"accession_full\", how = \"left\")\n",
    "w2_merged_blast = w2_blast_df.merge(w2_taxid_map, left_on = \"sseqid\", right_on = \"accession_full\", how = \"left\")\n",
    "\n",
    "print(w1_merged_blast.head())\n",
    "print(w2_merged_blast.head())"
   ]
  },
  {
   "cell_type": "code",
   "execution_count": 15,
   "id": "ed31cdc9-f377-4bbf-8a67-faa4561e0aa3",
   "metadata": {},
   "outputs": [
    {
     "name": "stdout",
     "output_type": "stream",
     "text": [
      "           qseqid       sseqid   pident  length  mismatch  gapopen  qstart  \\\n",
      "0  SRR10903402.21  NC_045512.2  100.000     113         0        0       1   \n",
      "1  SRR10903402.21  NC_045512.2  100.000      28         0        0     112   \n",
      "2  SRR10903402.24  NC_045512.2  100.000     150         0        0       1   \n",
      "3  SRR10903402.26  NC_045512.2  100.000     151         0        0       1   \n",
      "4  SRR10903402.26  NC_004718.3   96.026     151         6        0       1   \n",
      "\n",
      "   qend  sstart   send        evalue  bitscore accession_full    taxid  \\\n",
      "0   113    8072   7960  4.370000e-53     209.0    NC_045512.2  2697049   \n",
      "1   139    7944   7971  7.800000e-06      52.8    NC_045512.2  2697049   \n",
      "2   150    1513   1662  1.300000e-73     278.0    NC_045512.2  2697049   \n",
      "3   151   29748  29598  3.630000e-74     279.0    NC_045512.2  2697049   \n",
      "4   151   29605  29455  3.690000e-64     246.0    NC_004718.3   227984   \n",
      "\n",
      "                                             lineage  \n",
      "0  Viruses > Riboviria > Orthornavirae > Pisuviri...  \n",
      "1  Viruses > Riboviria > Orthornavirae > Pisuviri...  \n",
      "2  Viruses > Riboviria > Orthornavirae > Pisuviri...  \n",
      "3  Viruses > Riboviria > Orthornavirae > Pisuviri...  \n",
      "4  Viruses > Riboviria > Orthornavirae > Pisuviri...  \n",
      "           qseqid       sseqid  pident  length  mismatch  gapopen  qstart  \\\n",
      "0   SRR10903401.7  NC_045512.2   100.0     104         0        0      21   \n",
      "1   SRR10903401.7  NC_045512.2   100.0      29         0        0       1   \n",
      "2  SRR10903401.11  NC_001422.1   100.0     150         0        0       2   \n",
      "3  SRR10903401.13  NC_001422.1   100.0     151         0        0       1   \n",
      "4  SRR10903401.14  NC_001422.1   100.0     134         0        0       1   \n",
      "\n",
      "   qend  sstart   send        evalue  bitscore accession_full    taxid  \\\n",
      "0   124   28259  28362  3.820000e-48     193.0    NC_045512.2  2697049   \n",
      "1    29   28224  28196  1.880000e-06      54.7    NC_045512.2  2697049   \n",
      "2   151    1302   1451  1.310000e-73     278.0    NC_001422.1  2886930   \n",
      "3   151    4050   4200  3.630000e-74     279.0    NC_001422.1  2886930   \n",
      "4   134    5253   5386  1.020000e-64     248.0    NC_001422.1  2886930   \n",
      "\n",
      "                                             lineage  \n",
      "0  Viruses > Riboviria > Orthornavirae > Pisuviri...  \n",
      "1  Viruses > Riboviria > Orthornavirae > Pisuviri...  \n",
      "2  Viruses > Monodnaviria > Sangervirae > Phixvir...  \n",
      "3  Viruses > Monodnaviria > Sangervirae > Phixvir...  \n",
      "4  Viruses > Monodnaviria > Sangervirae > Phixvir...  \n"
     ]
    }
   ],
   "source": [
    "# merge taxid to lineage into final df\n",
    "w1_tax_class = w1_merged_blast.merge(w1_lineage_df, on = \"taxid\", how = \"left\")\n",
    "w2_tax_class = w2_merged_blast.merge(w2_lineage_df, on = \"taxid\", how = \"left\")\n",
    "\n",
    "print(w1_tax_class.head())\n",
    "print(w2_tax_class.head())"
   ]
  },
  {
   "cell_type": "code",
   "execution_count": 16,
   "id": "ff93122e-d3b8-4677-ae9c-55e750bc7605",
   "metadata": {},
   "outputs": [],
   "source": [
    "# save final files\n",
    "w1_tax_class.to_csv(\"working_files/wuhan1_blast_with_lineage.txt\", sep = \"\\t\", index = False)\n",
    "w2_tax_class.to_csv(\"working_files/wuhan2_blast_with_lineage.txt\", sep = \"\\t\", index = False)"
   ]
  }
 ],
 "metadata": {
  "kernelspec": {
   "display_name": "Python 3 (ipykernel)",
   "language": "python",
   "name": "python3"
  },
  "language_info": {
   "codemirror_mode": {
    "name": "ipython",
    "version": 3
   },
   "file_extension": ".py",
   "mimetype": "text/x-python",
   "name": "python",
   "nbconvert_exporter": "python",
   "pygments_lexer": "ipython3",
   "version": "3.12.8"
  }
 },
 "nbformat": 4,
 "nbformat_minor": 5
}
