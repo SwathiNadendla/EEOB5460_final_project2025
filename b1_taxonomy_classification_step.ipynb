{
 "cells": [
  {
   "cell_type": "markdown",
   "id": "df415266-9c3a-47da-854d-f364ffb3ecbe",
   "metadata": {},
   "source": [
    "## taxonomy classification\n",
    "\n",
    "\"Taxonomy lineage information was obtained for each blast hits by matching the accession number with the taxonomy database, which was subsequently used to identify reads of virus origin"
   ]
  },
  {
   "cell_type": "code",
   "execution_count": 1,
   "id": "448d1d55-5aef-45ec-b6aa-b19032b2085f",
   "metadata": {},
   "outputs": [
    {
     "name": "stdout",
     "output_type": "stream",
     "text": [
      "/Users/lilliang/Downloads\n"
     ]
    }
   ],
   "source": [
    "# ensure you are in the cloned github repo that contains the correct files\n",
    "!pwd"
   ]
  },
  {
   "cell_type": "code",
   "execution_count": 4,
   "id": "271a6216-9f9c-4e95-9236-e127be8d895e",
   "metadata": {},
   "outputs": [
    {
     "name": "stdout",
     "output_type": "stream",
     "text": [
      "    taxid\n",
      "0  104664\n",
      "1   10682\n",
      "2   10843\n",
      "3   10845\n",
      "4   10849\n",
      "     taxid\n",
      "0    10682\n",
      "1    10843\n",
      "2    10845\n",
      "3    10849\n",
      "4  1159907\n"
     ]
    }
   ],
   "source": [
    "import pandas as pd\n",
    "\n",
    "# read taxid files (only one column)\n",
    "w1_taxids = pd.read_csv(\"working_files/w1_taxids.txt\", header = None, names = [\"taxid\"], dtype = str)\n",
    "print(w1_taxids.head())\n",
    "\n",
    "w2_taxids = pd.read_csv(\"working_files/w2_taxids.txt\", header = None, names = [\"taxid\"], dtype = str)\n",
    "print(w2_taxids.head())"
   ]
  },
  {
   "cell_type": "code",
   "execution_count": 5,
   "id": "c62736e7-93e3-4afe-880b-db8e1c084512",
   "metadata": {},
   "outputs": [],
   "source": [
    "# load names.dmp\n",
    "def load_names(file_path):\n",
    "    taxid_to_name = {}\n",
    "    with open(file_path) as f:\n",
    "        for line in f:\n",
    "            parts = [p.strip() for p in line.split(\"|\")]\n",
    "            if len(parts) >= 4 and parts[3] == \"scientific name\":\n",
    "                taxid_to_name[parts[0]] = parts[1]\n",
    "    return taxid_to_name\n",
    "\n",
    "# load nodes.dmp\n",
    "def load_nodes(file_path):\n",
    "    child_to_parent = {}\n",
    "    with open(file_path) as f:\n",
    "        for line in f:\n",
    "            parts = line.strip().split(\"\\t|\\t\")\n",
    "            child = parts[0].strip()\n",
    "            parent = parts[1].strip()\n",
    "            child_to_parent[child] = parent\n",
    "    return child_to_parent\n",
    "\n",
    "names = load_names(\"working_files/taxonomy_db/names.dmp\")\n",
    "parents = load_nodes(\"working_files/taxonomy_db/nodes.dmp\")"
   ]
  },
  {
   "cell_type": "code",
   "execution_count": 6,
   "id": "0df6522b-30ce-4132-8af6-3b6c7b1b7a48",
   "metadata": {},
   "outputs": [],
   "source": [
    "def get_lineage(taxid, names_dict, parents_dict):\n",
    "    lineage = []\n",
    "    visited = set()\n",
    "\n",
    "    while taxid not in visited and taxid != \"1\":\n",
    "        visited.add(taxid)\n",
    "        name = names_dict.get(taxid, \"N/A\")\n",
    "        lineage.append(name)\n",
    "        taxid = parents_dict.get(taxid, \"1\")\n",
    "    \n",
    "    return \" > \".join(reversed(lineage))"
   ]
  },
  {
   "cell_type": "code",
   "execution_count": 7,
   "id": "6b05b757-ef33-4fc9-a452-58674e6a3b76",
   "metadata": {},
   "outputs": [
    {
     "data": {
      "text/html": [
       "<div>\n",
       "<style scoped>\n",
       "    .dataframe tbody tr th:only-of-type {\n",
       "        vertical-align: middle;\n",
       "    }\n",
       "\n",
       "    .dataframe tbody tr th {\n",
       "        vertical-align: top;\n",
       "    }\n",
       "\n",
       "    .dataframe thead th {\n",
       "        text-align: right;\n",
       "    }\n",
       "</style>\n",
       "<table border=\"1\" class=\"dataframe\">\n",
       "  <thead>\n",
       "    <tr style=\"text-align: right;\">\n",
       "      <th></th>\n",
       "      <th>taxid</th>\n",
       "      <th>lineage</th>\n",
       "    </tr>\n",
       "  </thead>\n",
       "  <tbody>\n",
       "    <tr>\n",
       "      <th>0</th>\n",
       "      <td>104664</td>\n",
       "      <td>Viruses &gt; Riboviria &gt; Orthornavirae &gt; Kitrinov...</td>\n",
       "    </tr>\n",
       "    <tr>\n",
       "      <th>1</th>\n",
       "      <td>10682</td>\n",
       "      <td>Viruses &gt; Duplodnaviria &gt; Heunggongvirae &gt; Uro...</td>\n",
       "    </tr>\n",
       "    <tr>\n",
       "      <th>2</th>\n",
       "      <td>10843</td>\n",
       "      <td>Viruses &gt; Monodnaviria &gt; Sangervirae &gt; Phixvir...</td>\n",
       "    </tr>\n",
       "    <tr>\n",
       "      <th>3</th>\n",
       "      <td>10845</td>\n",
       "      <td>Viruses &gt; Monodnaviria &gt; Sangervirae &gt; Phixvir...</td>\n",
       "    </tr>\n",
       "    <tr>\n",
       "      <th>4</th>\n",
       "      <td>10849</td>\n",
       "      <td>Viruses &gt; Monodnaviria &gt; Sangervirae &gt; Phixvir...</td>\n",
       "    </tr>\n",
       "  </tbody>\n",
       "</table>\n",
       "</div>"
      ],
      "text/plain": [
       "    taxid                                            lineage\n",
       "0  104664  Viruses > Riboviria > Orthornavirae > Kitrinov...\n",
       "1   10682  Viruses > Duplodnaviria > Heunggongvirae > Uro...\n",
       "2   10843  Viruses > Monodnaviria > Sangervirae > Phixvir...\n",
       "3   10845  Viruses > Monodnaviria > Sangervirae > Phixvir...\n",
       "4   10849  Viruses > Monodnaviria > Sangervirae > Phixvir..."
      ]
     },
     "execution_count": 7,
     "metadata": {},
     "output_type": "execute_result"
    }
   ],
   "source": [
    "# apply get_lineage \n",
    "w1_taxids[\"lineage\"] = w1_taxids[\"taxid\"].apply(lambda tid: get_lineage(tid, names, parents))\n",
    "w1_taxids.head()"
   ]
  },
  {
   "cell_type": "code",
   "execution_count": 8,
   "id": "25d8187f-6a92-4aa8-8711-be6b2cc02407",
   "metadata": {},
   "outputs": [
    {
     "data": {
      "text/html": [
       "<div>\n",
       "<style scoped>\n",
       "    .dataframe tbody tr th:only-of-type {\n",
       "        vertical-align: middle;\n",
       "    }\n",
       "\n",
       "    .dataframe tbody tr th {\n",
       "        vertical-align: top;\n",
       "    }\n",
       "\n",
       "    .dataframe thead th {\n",
       "        text-align: right;\n",
       "    }\n",
       "</style>\n",
       "<table border=\"1\" class=\"dataframe\">\n",
       "  <thead>\n",
       "    <tr style=\"text-align: right;\">\n",
       "      <th></th>\n",
       "      <th>taxid</th>\n",
       "      <th>lineage</th>\n",
       "    </tr>\n",
       "  </thead>\n",
       "  <tbody>\n",
       "    <tr>\n",
       "      <th>0</th>\n",
       "      <td>10682</td>\n",
       "      <td>Viruses &gt; Duplodnaviria &gt; Heunggongvirae &gt; Uro...</td>\n",
       "    </tr>\n",
       "    <tr>\n",
       "      <th>1</th>\n",
       "      <td>10843</td>\n",
       "      <td>Viruses &gt; Monodnaviria &gt; Sangervirae &gt; Phixvir...</td>\n",
       "    </tr>\n",
       "    <tr>\n",
       "      <th>2</th>\n",
       "      <td>10845</td>\n",
       "      <td>Viruses &gt; Monodnaviria &gt; Sangervirae &gt; Phixvir...</td>\n",
       "    </tr>\n",
       "    <tr>\n",
       "      <th>3</th>\n",
       "      <td>10849</td>\n",
       "      <td>Viruses &gt; Monodnaviria &gt; Sangervirae &gt; Phixvir...</td>\n",
       "    </tr>\n",
       "    <tr>\n",
       "      <th>4</th>\n",
       "      <td>1159907</td>\n",
       "      <td>Viruses &gt; Riboviria &gt; Orthornavirae &gt; Pisuviri...</td>\n",
       "    </tr>\n",
       "  </tbody>\n",
       "</table>\n",
       "</div>"
      ],
      "text/plain": [
       "     taxid                                            lineage\n",
       "0    10682  Viruses > Duplodnaviria > Heunggongvirae > Uro...\n",
       "1    10843  Viruses > Monodnaviria > Sangervirae > Phixvir...\n",
       "2    10845  Viruses > Monodnaviria > Sangervirae > Phixvir...\n",
       "3    10849  Viruses > Monodnaviria > Sangervirae > Phixvir...\n",
       "4  1159907  Viruses > Riboviria > Orthornavirae > Pisuviri..."
      ]
     },
     "execution_count": 8,
     "metadata": {},
     "output_type": "execute_result"
    }
   ],
   "source": [
    "# apply get_lineage \n",
    "w2_taxids[\"lineage\"] = w2_taxids[\"taxid\"].apply(lambda tid: get_lineage(tid, names, parents))\n",
    "w2_taxids.head()"
   ]
  },
  {
   "cell_type": "code",
   "execution_count": 9,
   "id": "973e148a-9341-4360-ac2d-55bba6e27b95",
   "metadata": {},
   "outputs": [],
   "source": [
    "# saving files\n",
    "w1_taxids.to_csv(\"working_files/w1_taxid_lineage_output.txt\", sep = \"\\t\", index = False)\n",
    "w2_taxids.to_csv(\"working_files/w2_taxid_lineage_output.txt\", sep = \"\\t\", index = False)"
   ]
  },
  {
   "cell_type": "code",
   "execution_count": 10,
   "id": "3c37307a-441d-4698-aea5-43e25f8448d6",
   "metadata": {},
   "outputs": [
    {
     "name": "stdout",
     "output_type": "stream",
     "text": [
      "     qseqid       sseqid   pident  length  mismatch  gapopen  qstart  qend  \\\n",
      "0  k141_124  NC_026592.1   98.087     732        14        0      30   761   \n",
      "1  k141_124  NC_026592.1  100.000      37         0        0       1    37   \n",
      "2   k141_24  NC_074405.1  100.000     136         0        0     338   473   \n",
      "3  k141_178  NC_026592.1   98.125     320         6        0       1   320   \n",
      "4  k141_178  NC_026592.1   97.232     289         8        0     315   603   \n",
      "\n",
      "   sstart  send         evalue  bitscore  \n",
      "0    4904  5635   0.000000e+00    1275.0  \n",
      "1    4845  4809   5.020000e-10      69.4  \n",
      "2     136     1   3.460000e-65     252.0  \n",
      "3    4845  4526  2.260000e-157     558.0  \n",
      "4    4296  4584  8.360000e-137     490.0  \n",
      "    qseqid       sseqid   pident  length  mismatch  gapopen  qstart  qend  \\\n",
      "0  k141_22  NC_050152.1   98.519     540         8        0       1   540   \n",
      "1  k141_22  NC_050152.1  100.000      83         0        0     536   618   \n",
      "2  k141_23  NC_054662.1   86.441      59         7        1     223   280   \n",
      "3  k141_21  NC_008168.1   87.952      83         5        2      81   163   \n",
      "4  k141_21  NC_008168.1   95.238      42         2        0      42    83   \n",
      "\n",
      "   sstart   send        evalue  bitscore  \n",
      "0    6734   7273  0.000000e+00     953.0  \n",
      "1    7222   7140  1.080000e-35     154.0  \n",
      "2   48702  48644  2.070000e-08      63.9  \n",
      "3   25979  25902  2.460000e-17      93.5  \n",
      "4   25902  25943  1.490000e-09      67.6  \n"
     ]
    }
   ],
   "source": [
    "# join blastn hits df w/ lineage df by accession \n",
    "# read in blastn files\n",
    "w1_blast_df = pd.read_csv(\"working_files/wuhan1_blastn_hits.txt\", sep = \"\\t\", header = None)\n",
    "w2_blast_df = pd.read_csv(\"working_files/wuhan2_blastn_hits.txt\", sep = \"\\t\", header = None)\n",
    "\n",
    "# add column headers based on output format 6 (https://www.metagenomics.wiki/tools/blast/blastn-output-format-6)\n",
    "w1_blast_df.columns = [\n",
    "    \"qseqid\", \"sseqid\", \"pident\", \"length\", \"mismatch\", \"gapopen\", \n",
    "    \"qstart\", \"qend\", \"sstart\", \"send\", \"evalue\", \"bitscore\"\n",
    "]\n",
    "w2_blast_df.columns = [\n",
    "    \"qseqid\", \"sseqid\", \"pident\", \"length\", \"mismatch\", \"gapopen\", \n",
    "    \"qstart\", \"qend\", \"sstart\", \"send\", \"evalue\", \"bitscore\"\n",
    "]\n",
    "\n",
    "print(w1_blast_df.head())\n",
    "print(w2_blast_df.head())"
   ]
  },
  {
   "cell_type": "markdown",
   "id": "3a5ea92a-c93d-4655-a692-125688c332f1",
   "metadata": {},
   "source": [
    "1.  qseqid   |   query or source (gene) sequence id\n",
    "\n",
    "2.  sseqid   |   subject or target (reference genome) sequence id\n",
    "\n",
    "3.  pident   |   percentage of identical positions\n",
    "\n",
    "4.  length   |   alignment length (sequence overlap)\n",
    "\n",
    "5.  mismatch  |  number of mismatches\n",
    "\n",
    "6.  gapopen  |   number of gap openings\n",
    "\n",
    "7.  qstart   |   start of alignment in query\n",
    "\n",
    "8.  qend    |    end of alignment in query\n",
    "\n",
    "9.  sstart   |   start of alignment in subject\n",
    "\n",
    "10.  send    |    end of alignment in subject\n",
    "\n",
    "11.  evalue   |   expect value\n",
    "\n",
    "12.  bitscore  |  bit score"
   ]
  },
  {
   "cell_type": "code",
   "execution_count": 11,
   "id": "ef183600-349e-410f-94ee-c22c66de049f",
   "metadata": {},
   "outputs": [
    {
     "name": "stdout",
     "output_type": "stream",
     "text": [
      "  accession_full    taxid\n",
      "0    NC_001330.1    10849\n",
      "1    NC_001420.2    10843\n",
      "2    NC_001422.1  2886930\n",
      "3    NC_001450.1    11665\n",
      "4    NC_001730.1  2507234\n",
      "  accession_full    taxid\n",
      "0    NC_001330.1    10849\n",
      "1    NC_001420.2    10843\n",
      "2    NC_001422.1  2886930\n",
      "3    NC_001450.1    11665\n",
      "4    NC_001730.1  2507234\n"
     ]
    }
   ],
   "source": [
    "# load accession to taxid map\n",
    "w1_taxid_map = pd.read_csv(\"working_files/w1_taxid_map.txt\", sep = \"\\t\", header = None, names = [\"accession_base\", \"accession_full\", \"taxid\", \"gi\"])\n",
    "w2_taxid_map = pd.read_csv(\"working_files/w2_taxid_map.txt\", sep = \"\\t\", header = None, names = [\"accession_base\", \"accession_full\", \"taxid\", \"gi\"])\n",
    "\n",
    "w1_taxid_map = w1_taxid_map[[\"accession_full\", \"taxid\"]]\n",
    "w2_taxid_map = w2_taxid_map[[\"accession_full\", \"taxid\"]]\n",
    "\n",
    "print(w1_taxid_map.head())\n",
    "print(w2_taxid_map.head())"
   ]
  },
  {
   "cell_type": "code",
   "execution_count": 12,
   "id": "94fc42e3-1cd7-4206-8f97-d843533de485",
   "metadata": {},
   "outputs": [
    {
     "name": "stdout",
     "output_type": "stream",
     "text": [
      "    taxid                                            lineage\n",
      "0  104664  Viruses > Riboviria > Orthornavirae > Kitrinov...\n",
      "1   10682  Viruses > Duplodnaviria > Heunggongvirae > Uro...\n",
      "2   10843  Viruses > Monodnaviria > Sangervirae > Phixvir...\n",
      "3   10845  Viruses > Monodnaviria > Sangervirae > Phixvir...\n",
      "4   10849  Viruses > Monodnaviria > Sangervirae > Phixvir...\n",
      "     taxid                                            lineage\n",
      "0    10682  Viruses > Duplodnaviria > Heunggongvirae > Uro...\n",
      "1    10843  Viruses > Monodnaviria > Sangervirae > Phixvir...\n",
      "2    10845  Viruses > Monodnaviria > Sangervirae > Phixvir...\n",
      "3    10849  Viruses > Monodnaviria > Sangervirae > Phixvir...\n",
      "4  1159907  Viruses > Riboviria > Orthornavirae > Pisuviri...\n"
     ]
    }
   ],
   "source": [
    "# load newly made lineage files\n",
    "w1_lineage_df = pd.read_csv(\"working_files/w1_taxid_lineage_output.txt\", sep = \"\\t\", header = 0)\n",
    "w2_lineage_df = pd.read_csv(\"working_files/w2_taxid_lineage_output.txt\", sep = \"\\t\", header = 0)\n",
    "\n",
    "print(w1_lineage_df.head())\n",
    "print(w2_lineage_df.head())"
   ]
  },
  {
   "cell_type": "code",
   "execution_count": 14,
   "id": "e327183f-3740-4395-85de-6104462dbb08",
   "metadata": {},
   "outputs": [
    {
     "name": "stdout",
     "output_type": "stream",
     "text": [
      "     qseqid       sseqid   pident  length  mismatch  gapopen  qstart  qend  \\\n",
      "0  k141_124  NC_026592.1   98.087     732        14        0      30   761   \n",
      "1  k141_124  NC_026592.1  100.000      37         0        0       1    37   \n",
      "2   k141_24  NC_074405.1  100.000     136         0        0     338   473   \n",
      "3  k141_178  NC_026592.1   98.125     320         6        0       1   320   \n",
      "4  k141_178  NC_026592.1   97.232     289         8        0     315   603   \n",
      "\n",
      "   sstart  send         evalue  bitscore accession_full    taxid  \n",
      "0    4904  5635   0.000000e+00    1275.0    NC_026592.1  1214459  \n",
      "1    4845  4809   5.020000e-10      69.4    NC_026592.1  1214459  \n",
      "2     136     1   3.460000e-65     252.0    NC_074405.1  2786389  \n",
      "3    4845  4526  2.260000e-157     558.0    NC_026592.1  1214459  \n",
      "4    4296  4584  8.360000e-137     490.0    NC_026592.1  1214459  \n",
      "    qseqid       sseqid   pident  length  mismatch  gapopen  qstart  qend  \\\n",
      "0  k141_22  NC_050152.1   98.519     540         8        0       1   540   \n",
      "1  k141_22  NC_050152.1  100.000      83         0        0     536   618   \n",
      "2  k141_23  NC_054662.1   86.441      59         7        1     223   280   \n",
      "3  k141_21  NC_008168.1   87.952      83         5        2      81   163   \n",
      "4  k141_21  NC_008168.1   95.238      42         2        0      42    83   \n",
      "\n",
      "   sstart   send        evalue  bitscore accession_full    taxid  \n",
      "0    6734   7273  0.000000e+00     953.0    NC_050152.1    10682  \n",
      "1    7222   7140  1.080000e-35     154.0    NC_050152.1    10682  \n",
      "2   48702  48644  2.070000e-08      63.9    NC_054662.1  2059882  \n",
      "3   25979  25902  2.460000e-17      93.5    NC_008168.1    56947  \n",
      "4   25902  25943  1.490000e-09      67.6    NC_008168.1    56947  \n"
     ]
    }
   ],
   "source": [
    "# merge accession to taxid into blastn\n",
    "w1_merged_blast = w1_blast_df.merge(w1_taxid_map, left_on = \"sseqid\", right_on = \"accession_full\", how = \"left\")\n",
    "w2_merged_blast = w2_blast_df.merge(w2_taxid_map, left_on = \"sseqid\", right_on = \"accession_full\", how = \"left\")\n",
    "\n",
    "print(w1_merged_blast.head())\n",
    "print(w2_merged_blast.head())"
   ]
  },
  {
   "cell_type": "code",
   "execution_count": 15,
   "id": "ed31cdc9-f377-4bbf-8a67-faa4561e0aa3",
   "metadata": {},
   "outputs": [
    {
     "name": "stdout",
     "output_type": "stream",
     "text": [
      "     qseqid       sseqid   pident  length  mismatch  gapopen  qstart  qend  \\\n",
      "0  k141_124  NC_026592.1   98.087     732        14        0      30   761   \n",
      "1  k141_124  NC_026592.1  100.000      37         0        0       1    37   \n",
      "2   k141_24  NC_074405.1  100.000     136         0        0     338   473   \n",
      "3  k141_178  NC_026592.1   98.125     320         6        0       1   320   \n",
      "4  k141_178  NC_026592.1   97.232     289         8        0     315   603   \n",
      "\n",
      "   sstart  send         evalue  bitscore accession_full    taxid  \\\n",
      "0    4904  5635   0.000000e+00    1275.0    NC_026592.1  1214459   \n",
      "1    4845  4809   5.020000e-10      69.4    NC_026592.1  1214459   \n",
      "2     136     1   3.460000e-65     252.0    NC_074405.1  2786389   \n",
      "3    4845  4526  2.260000e-157     558.0    NC_026592.1  1214459   \n",
      "4    4296  4584  8.360000e-137     490.0    NC_026592.1  1214459   \n",
      "\n",
      "                                             lineage  \n",
      "0  Viruses > Riboviria > Orthornavirae > Kitrinov...  \n",
      "1  Viruses > Riboviria > Orthornavirae > Kitrinov...  \n",
      "2  Viruses > Riboviria > Orthornavirae > Lenarvir...  \n",
      "3  Viruses > Riboviria > Orthornavirae > Kitrinov...  \n",
      "4  Viruses > Riboviria > Orthornavirae > Kitrinov...  \n",
      "    qseqid       sseqid   pident  length  mismatch  gapopen  qstart  qend  \\\n",
      "0  k141_22  NC_050152.1   98.519     540         8        0       1   540   \n",
      "1  k141_22  NC_050152.1  100.000      83         0        0     536   618   \n",
      "2  k141_23  NC_054662.1   86.441      59         7        1     223   280   \n",
      "3  k141_21  NC_008168.1   87.952      83         5        2      81   163   \n",
      "4  k141_21  NC_008168.1   95.238      42         2        0      42    83   \n",
      "\n",
      "   sstart   send        evalue  bitscore accession_full    taxid  \\\n",
      "0    6734   7273  0.000000e+00     953.0    NC_050152.1    10682   \n",
      "1    7222   7140  1.080000e-35     154.0    NC_050152.1    10682   \n",
      "2   48702  48644  2.070000e-08      63.9    NC_054662.1  2059882   \n",
      "3   25979  25902  2.460000e-17      93.5    NC_008168.1    56947   \n",
      "4   25902  25943  1.490000e-09      67.6    NC_008168.1    56947   \n",
      "\n",
      "                                             lineage  \n",
      "0  Viruses > Duplodnaviria > Heunggongvirae > Uro...  \n",
      "1  Viruses > Duplodnaviria > Heunggongvirae > Uro...  \n",
      "2  Viruses > Duplodnaviria > Heunggongvirae > Uro...  \n",
      "3  Viruses > Viruses incertae sedis > Naldavirice...  \n",
      "4  Viruses > Viruses incertae sedis > Naldavirice...  \n"
     ]
    }
   ],
   "source": [
    "# merge taxid to lineage into final df\n",
    "w1_tax_class = w1_merged_blast.merge(w1_lineage_df, on = \"taxid\", how = \"left\")\n",
    "w2_tax_class = w2_merged_blast.merge(w2_lineage_df, on = \"taxid\", how = \"left\")\n",
    "\n",
    "print(w1_tax_class.head())\n",
    "print(w2_tax_class.head())"
   ]
  },
  {
   "cell_type": "code",
   "execution_count": 16,
   "id": "ff93122e-d3b8-4677-ae9c-55e750bc7605",
   "metadata": {},
   "outputs": [],
   "source": [
    "# save final files\n",
    "w1_tax_class.to_csv(\"working_files/wuhan1_blast_with_lineage.txt\", sep = \"\\t\", index = False)\n",
    "w2_tax_class.to_csv(\"working_files/wuhan2_blast_with_lineage.txt\", sep = \"\\t\", index = False)"
   ]
  },
  {
   "cell_type": "code",
   "execution_count": null,
   "id": "61b66aa7-b385-481f-bed3-511b0a6d0e0f",
   "metadata": {},
   "outputs": [],
   "source": []
  }
 ],
 "metadata": {
  "kernelspec": {
   "display_name": "Python 3 (ipykernel)",
   "language": "python",
   "name": "python3"
  },
  "language_info": {
   "codemirror_mode": {
    "name": "ipython",
    "version": 3
   },
   "file_extension": ".py",
   "mimetype": "text/x-python",
   "name": "python",
   "nbconvert_exporter": "python",
   "pygments_lexer": "ipython3",
   "version": "3.13.1"
  }
 },
 "nbformat": 4,
 "nbformat_minor": 5
}
