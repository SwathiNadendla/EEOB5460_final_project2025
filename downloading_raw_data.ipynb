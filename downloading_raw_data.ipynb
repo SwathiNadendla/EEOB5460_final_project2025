{
 "cells": [
  {
   "cell_type": "code",
   "execution_count": 3,
   "id": "9670a62d",
   "metadata": {},
   "outputs": [
    {
     "name": "stdout",
     "output_type": "stream",
     "text": [
      "Downloading SRR10903402_1.fastq to patient_raw_fastq...\n",
      "Downloaded SRR10903402_1.fastq successfully.\n",
      "Downloading SRR10903402_2.fastq to patient_raw_fastq...\n",
      "Downloaded SRR10903402_2.fastq successfully.\n",
      "Downloading SRR10903401_2.fastq to patient_raw_fastq...\n",
      "Downloaded SRR10903401_2.fastq successfully.\n",
      "Downloading SRR10903401_1.fastq to patient_raw_fastq...\n",
      "Downloaded SRR10903401_1.fastq successfully.\n",
      "All raw data files successfully downloaded.\n"
     ]
    }
   ],
   "source": [
    "import os\n",
    "import subprocess\n",
    "\n",
    "os.mkdir(\"patient_raw_fastq\")\n",
    "os.mkdir(\"working_files\")\n",
    "\n",
    "raw_data_dir = \"patient_raw_fastq\"\n",
    "\n",
    "# List of (filename, direct_download_url) tuples\n",
    "files_to_download = [\n",
    "    (\"SRR10903402_1.fastq\", \"https://iastate.box.com/shared/static/i13hh09uhq1x5z50wgum1x3ngzjug8wh?dl=1\"),\n",
    "    (\"SRR10903402_2.fastq\", \"https://iastate.box.com/shared/static/hh9bq3nzl3bqd4yzo30u40dhntryxjv5?dl=1\"),\n",
    "    (\"SRR10903401_2.fastq\", \"https://iastate.box.com/shared/static/2iotaxl2sbjlwmpj0zc2odr5m2o6akra?dl=1\"),\n",
    "    (\"SRR10903401_1.fastq\", \"https://iastate.box.com/shared/static/6s1jrwmy9oj7m2dqp0jkn6y0u8r27mj8?dl=1\"),\n",
    "]\n",
    "\n",
    "for filename, url in files_to_download:\n",
    "    print(f\"Downloading {filename} to {raw_data_dir}...\")\n",
    "    # Use wget's -O to set the filename, -P to set the directory\n",
    "    dest_path = os.path.join(raw_data_dir, filename)\n",
    "    result = subprocess.run(\n",
    "        [\"wget\", url, \"-O\", dest_path],\n",
    "        capture_output=True,\n",
    "        text=True\n",
    "    )\n",
    "    if result.returncode == 0:\n",
    "        print(f\"Downloaded {filename} successfully.\")\n",
    "    else:\n",
    "        print(f\"Failed to download {filename}. Error:\\n{result.stderr}\")\n",
    "\n",
    "print(\"All raw data files successfully downloaded.\")"
   ]
  }
 ],
 "metadata": {
  "kernelspec": {
   "display_name": "Python 3 (ipykernel)",
   "language": "python",
   "name": "python3"
  },
  "language_info": {
   "codemirror_mode": {
    "name": "ipython",
    "version": 3
   },
   "file_extension": ".py",
   "mimetype": "text/x-python",
   "name": "python",
   "nbconvert_exporter": "python",
   "pygments_lexer": "ipython3",
   "version": "3.10.2"
  }
 },
 "nbformat": 4,
 "nbformat_minor": 5
}
