{
 "cells": [
  {
   "cell_type": "markdown",
   "id": "e8eb734d-3bc6-4ffe-a29e-89776e014b0c",
   "metadata": {},
   "source": [
    "# Viral Phylogenetic Tree Construction from FASTQ Files"
   ]
  },
  {
   "cell_type": "code",
   "execution_count": 1,
   "id": "5f7bfc84-9d08-4c9b-bfdc-2c9bc5d13347",
   "metadata": {},
   "outputs": [],
   "source": [
    "import os\n",
    "import subprocess\n",
    "from Bio import AlignIO, Phylo\n",
    "from Bio.Phylo.TreeConstruction import DistanceCalculator, DistanceTreeConstructor\n",
    "import matplotlib.pyplot as plt"
   ]
  },
  {
   "cell_type": "code",
   "execution_count": 2,
   "id": "58fba5a2-b881-441d-beb5-67f0efadd413",
   "metadata": {},
   "outputs": [],
   "source": [
    "# Define paths and samples\n",
    "ref_genome = \"working_files/viral_ref_genome_output.fasta\"\n",
    "samples = {\n",
    "\n",
    "}"
   ]
  },
  {
   "cell_type": "code",
   "execution_count": null,
   "id": "5e16dc2d-87b7-4fc8-ad08-13a12b05afb1",
   "metadata": {},
   "outputs": [],
   "source": [
    "# Step 1: Preprocess FASTQ files (FastQC)\n",
    "def preprocess_fastq(sample):\n",
    "    r1 = f\"{sample}_R1.fastq\"\n",
    "    r2 = f\"{sample}_R2.fastq\"\n",
    "    print(f\"Running FastQC on {sample}\")\n",
    "    subprocess.run([\"fastqc\", r1, r2, \"-o\", \"working_files/fastqc\"])"
   ]
  },
  {
   "cell_type": "code",
   "execution_count": null,
   "id": "8193f572-e4e3-4662-a589-86e0c0560d6f",
   "metadata": {},
   "outputs": [],
   "source": [
    "# Step 2: Map reads to reference genome and create sorted BAM\n",
    "def map_reads(sample):\n",
    "    r1 = f\"{sample}_R1.fastq\"\n",
    "    r2 = f\"{sample}_R2.fastq\"\n",
    "    sam = f\"{sample}.sam\"\n",
    "    bam = f\"{sample}.bam\"\n",
    "    sorted_bam = f\"{sample}_sorted.bam\"\n",
    "    print(f\"Mapping {sample} to reference...\")\n",
    "    subprocess.run([\"bwa\", \"mem\", ref_genome, r1, r2, \"-o\", sam])\n",
    "    subprocess.run([\"samtools\", \"view\", \"-S\", \"-b\", sam, \"-o\", bam])\n",
    "    subprocess.run([\"samtools\", \"sort\", bam, \"-o\", sorted_bam])\n",
    "    subprocess.run([\"samtools\", \"index\", sorted_bam])\n",
    "    return sorted_bam"
   ]
  },
  {
   "cell_type": "code",
   "execution_count": null,
   "id": "ef13ede8-f3b2-40ef-bfd9-2205bdae7834",
   "metadata": {},
   "outputs": [],
   "source": [
    "# Step 3: Generate consensus FASTA from sorted BAM\n",
    "def generate_consensus(sample, sorted_bam):\n",
    "    vcf = f\"{sample}.vcf\"\n",
    "    consensus = f\"{sample}.fa\"\n",
    "    subprocess.run(f\"samtools mpileup -uf {ref_genome} {sorted_bam} | bcftools call -c - > {vcf}\",\n",
    "                   shell=True, executable=\"/bin/bash\")\n",
    "    subprocess.run([\"bcftools\", \"consensus\", \"-f\", ref_genome, vcf, \"-o\", consensus])\n",
    "    return consensus"
   ]
  },
  {
   "cell_type": "code",
   "execution_count": null,
   "id": "6d95df53-fb91-492c-9dc0-fa16e29c8eac",
   "metadata": {},
   "outputs": [],
   "source": [
    "# Step 4: Align all consensus FASTA files and build a phylogenetic tree\n",
    "def build_tree(consensus_files):\n",
    "    aligned_file = \"aligned.fasta\"\n",
    "    concat_input = \"input_for_mafft.fasta\"\n",
    "    # Combine sequences into one file\n",
    "    with open(concat_input, \"w\") as outfile:\n",
    "        for fname in consensus_files:\n",
    "            with open(fname) as infile:\n",
    "                outfile.write(infile.read())\n",
    "    print(\"Running MAFFT alignment...\")\n",
    "    subprocess.run(f\"mafft --auto {concat_input} > {aligned_file}\",\n",
    "                   shell=True, executable=\"/bin/bash\")\n",
    "    alignment = AlignIO.read(aligned_file, \"fasta\")\n",
    "    calculator = DistanceCalculator('identity')\n",
    "    dm = calculator.get_distance(alignment)\n",
    "    constructor = DistanceTreeConstructor()\n",
    "    tree = constructor.nj(dm)\n",
    "    fig = plt.figure(figsize=(10, 5))\n",
    "    ax = fig.add_subplot(1, 1, 1)\n",
    "    Phylo.draw(tree, axes=ax)\n",
    "    plt.show()"
   ]
  },
  {
   "cell_type": "code",
   "execution_count": null,
   "id": "8ae212ab-d8b5-4fc4-a0e3-7c9ffb0e01aa",
   "metadata": {},
   "outputs": [],
   "source": [
    "# === Main Pipeline ===\n",
    "def run_pipeline():\n",
    "    consensus_files = []\n",
    "    for sample in samples:\n",
    "        preprocess_fastq(sample)\n",
    "        sorted_bam = map_reads(sample)\n",
    "        consensus = generate_consensus(sample, sorted_bam)\n",
    "        consensus_files.append(consensus)\n",
    "    build_tree(consensus_files)\n",
    "if __name__ == \"__main__\":\n",
    "    run_pipeline()"
   ]
  }
 ],
 "metadata": {
  "kernelspec": {
   "display_name": "Python 3 (ipykernel)",
   "language": "python",
   "name": "python3"
  },
  "language_info": {
   "codemirror_mode": {
    "name": "ipython",
    "version": 3
   },
   "file_extension": ".py",
   "mimetype": "text/x-python",
   "name": "python",
   "nbconvert_exporter": "python",
   "pygments_lexer": "ipython3",
   "version": "3.12.8"
  }
 },
 "nbformat": 4,
 "nbformat_minor": 5
}
